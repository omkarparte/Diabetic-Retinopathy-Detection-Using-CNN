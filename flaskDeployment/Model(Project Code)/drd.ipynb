{
  "nbformat": 4,
  "nbformat_minor": 0,
  "metadata": {
    "colab": {
      "name": "drd.ipynb",
      "provenance": [],
      "collapsed_sections": []
    },
    "kernelspec": {
      "name": "python3",
      "display_name": "Python 3"
    },
    "accelerator": "GPU"
  },
  "cells": [
    {
      "cell_type": "code",
      "metadata": {
        "colab": {
          "base_uri": "https://localhost:8080/"
        },
        "id": "XRLoX436tKXP",
        "outputId": "039f3ee2-a6a9-4b25-9675-05b7e174ade4"
      },
      "source": [
        "!pip install tensorflow-gpu"
      ],
      "execution_count": null,
      "outputs": [
        {
          "output_type": "stream",
          "text": [
            "Collecting tensorflow-gpu\n",
            "\u001b[?25l  Downloading https://files.pythonhosted.org/packages/85/cc/a27e73cf8b23f2ce4bdd2b7089a42a7819ce6dd7366dceba406ddc5daa9c/tensorflow_gpu-2.4.1-cp37-cp37m-manylinux2010_x86_64.whl (394.3MB)\n",
            "\u001b[K     |████████████████████████████████| 394.3MB 42kB/s \n",
            "\u001b[?25hRequirement already satisfied: absl-py~=0.10 in /usr/local/lib/python3.7/dist-packages (from tensorflow-gpu) (0.10.0)\n",
            "Requirement already satisfied: wrapt~=1.12.1 in /usr/local/lib/python3.7/dist-packages (from tensorflow-gpu) (1.12.1)\n",
            "Requirement already satisfied: six~=1.15.0 in /usr/local/lib/python3.7/dist-packages (from tensorflow-gpu) (1.15.0)\n",
            "Requirement already satisfied: h5py~=2.10.0 in /usr/local/lib/python3.7/dist-packages (from tensorflow-gpu) (2.10.0)\n",
            "Requirement already satisfied: protobuf>=3.9.2 in /usr/local/lib/python3.7/dist-packages (from tensorflow-gpu) (3.12.4)\n",
            "Requirement already satisfied: tensorboard~=2.4 in /usr/local/lib/python3.7/dist-packages (from tensorflow-gpu) (2.4.1)\n",
            "Requirement already satisfied: numpy~=1.19.2 in /usr/local/lib/python3.7/dist-packages (from tensorflow-gpu) (1.19.5)\n",
            "Requirement already satisfied: flatbuffers~=1.12.0 in /usr/local/lib/python3.7/dist-packages (from tensorflow-gpu) (1.12)\n",
            "Requirement already satisfied: wheel~=0.35 in /usr/local/lib/python3.7/dist-packages (from tensorflow-gpu) (0.36.2)\n",
            "Requirement already satisfied: grpcio~=1.32.0 in /usr/local/lib/python3.7/dist-packages (from tensorflow-gpu) (1.32.0)\n",
            "Requirement already satisfied: opt-einsum~=3.3.0 in /usr/local/lib/python3.7/dist-packages (from tensorflow-gpu) (3.3.0)\n",
            "Requirement already satisfied: typing-extensions~=3.7.4 in /usr/local/lib/python3.7/dist-packages (from tensorflow-gpu) (3.7.4.3)\n",
            "Requirement already satisfied: termcolor~=1.1.0 in /usr/local/lib/python3.7/dist-packages (from tensorflow-gpu) (1.1.0)\n",
            "Requirement already satisfied: gast==0.3.3 in /usr/local/lib/python3.7/dist-packages (from tensorflow-gpu) (0.3.3)\n",
            "Requirement already satisfied: tensorflow-estimator<2.5.0,>=2.4.0 in /usr/local/lib/python3.7/dist-packages (from tensorflow-gpu) (2.4.0)\n",
            "Requirement already satisfied: google-pasta~=0.2 in /usr/local/lib/python3.7/dist-packages (from tensorflow-gpu) (0.2.0)\n",
            "Requirement already satisfied: keras-preprocessing~=1.1.2 in /usr/local/lib/python3.7/dist-packages (from tensorflow-gpu) (1.1.2)\n",
            "Requirement already satisfied: astunparse~=1.6.3 in /usr/local/lib/python3.7/dist-packages (from tensorflow-gpu) (1.6.3)\n",
            "Requirement already satisfied: setuptools in /usr/local/lib/python3.7/dist-packages (from protobuf>=3.9.2->tensorflow-gpu) (54.0.0)\n",
            "Requirement already satisfied: google-auth<2,>=1.6.3 in /usr/local/lib/python3.7/dist-packages (from tensorboard~=2.4->tensorflow-gpu) (1.27.1)\n",
            "Requirement already satisfied: requests<3,>=2.21.0 in /usr/local/lib/python3.7/dist-packages (from tensorboard~=2.4->tensorflow-gpu) (2.23.0)\n",
            "Requirement already satisfied: google-auth-oauthlib<0.5,>=0.4.1 in /usr/local/lib/python3.7/dist-packages (from tensorboard~=2.4->tensorflow-gpu) (0.4.3)\n",
            "Requirement already satisfied: werkzeug>=0.11.15 in /usr/local/lib/python3.7/dist-packages (from tensorboard~=2.4->tensorflow-gpu) (1.0.1)\n",
            "Requirement already satisfied: markdown>=2.6.8 in /usr/local/lib/python3.7/dist-packages (from tensorboard~=2.4->tensorflow-gpu) (3.3.4)\n",
            "Requirement already satisfied: tensorboard-plugin-wit>=1.6.0 in /usr/local/lib/python3.7/dist-packages (from tensorboard~=2.4->tensorflow-gpu) (1.8.0)\n",
            "Requirement already satisfied: cachetools<5.0,>=2.0.0 in /usr/local/lib/python3.7/dist-packages (from google-auth<2,>=1.6.3->tensorboard~=2.4->tensorflow-gpu) (4.2.1)\n",
            "Requirement already satisfied: rsa<5,>=3.1.4; python_version >= \"3.6\" in /usr/local/lib/python3.7/dist-packages (from google-auth<2,>=1.6.3->tensorboard~=2.4->tensorflow-gpu) (4.7.2)\n",
            "Requirement already satisfied: pyasn1-modules>=0.2.1 in /usr/local/lib/python3.7/dist-packages (from google-auth<2,>=1.6.3->tensorboard~=2.4->tensorflow-gpu) (0.2.8)\n",
            "Requirement already satisfied: urllib3!=1.25.0,!=1.25.1,<1.26,>=1.21.1 in /usr/local/lib/python3.7/dist-packages (from requests<3,>=2.21.0->tensorboard~=2.4->tensorflow-gpu) (1.24.3)\n",
            "Requirement already satisfied: certifi>=2017.4.17 in /usr/local/lib/python3.7/dist-packages (from requests<3,>=2.21.0->tensorboard~=2.4->tensorflow-gpu) (2020.12.5)\n",
            "Requirement already satisfied: chardet<4,>=3.0.2 in /usr/local/lib/python3.7/dist-packages (from requests<3,>=2.21.0->tensorboard~=2.4->tensorflow-gpu) (3.0.4)\n",
            "Requirement already satisfied: idna<3,>=2.5 in /usr/local/lib/python3.7/dist-packages (from requests<3,>=2.21.0->tensorboard~=2.4->tensorflow-gpu) (2.10)\n",
            "Requirement already satisfied: requests-oauthlib>=0.7.0 in /usr/local/lib/python3.7/dist-packages (from google-auth-oauthlib<0.5,>=0.4.1->tensorboard~=2.4->tensorflow-gpu) (1.3.0)\n",
            "Requirement already satisfied: importlib-metadata; python_version < \"3.8\" in /usr/local/lib/python3.7/dist-packages (from markdown>=2.6.8->tensorboard~=2.4->tensorflow-gpu) (3.7.0)\n",
            "Requirement already satisfied: pyasn1>=0.1.3 in /usr/local/lib/python3.7/dist-packages (from rsa<5,>=3.1.4; python_version >= \"3.6\"->google-auth<2,>=1.6.3->tensorboard~=2.4->tensorflow-gpu) (0.4.8)\n",
            "Requirement already satisfied: oauthlib>=3.0.0 in /usr/local/lib/python3.7/dist-packages (from requests-oauthlib>=0.7.0->google-auth-oauthlib<0.5,>=0.4.1->tensorboard~=2.4->tensorflow-gpu) (3.1.0)\n",
            "Requirement already satisfied: zipp>=0.5 in /usr/local/lib/python3.7/dist-packages (from importlib-metadata; python_version < \"3.8\"->markdown>=2.6.8->tensorboard~=2.4->tensorflow-gpu) (3.4.1)\n",
            "Installing collected packages: tensorflow-gpu\n",
            "Successfully installed tensorflow-gpu-2.4.1\n"
          ],
          "name": "stdout"
        }
      ]
    },
    {
      "cell_type": "code",
      "metadata": {
        "id": "VQoJBNr-bNQg"
      },
      "source": [
        "import tensorflow as tf\n",
        "import PIL\n",
        "from tensorflow import keras\n",
        "from tensorflow.keras import layers\n",
        "from tensorflow.keras import models"
      ],
      "execution_count": null,
      "outputs": []
    },
    {
      "cell_type": "code",
      "metadata": {
        "colab": {
          "base_uri": "https://localhost:8080/"
        },
        "id": "Z4Ejvl9rup9s",
        "outputId": "9a6a056f-fb61-454d-a551-b17ce51b4a74"
      },
      "source": [
        "!nvidia-smi"
      ],
      "execution_count": null,
      "outputs": [
        {
          "output_type": "stream",
          "text": [
            "Fri Mar 12 06:49:33 2021       \n",
            "+-----------------------------------------------------------------------------+\n",
            "| NVIDIA-SMI 460.56       Driver Version: 460.32.03    CUDA Version: 11.2     |\n",
            "|-------------------------------+----------------------+----------------------+\n",
            "| GPU  Name        Persistence-M| Bus-Id        Disp.A | Volatile Uncorr. ECC |\n",
            "| Fan  Temp  Perf  Pwr:Usage/Cap|         Memory-Usage | GPU-Util  Compute M. |\n",
            "|                               |                      |               MIG M. |\n",
            "|===============================+======================+======================|\n",
            "|   0  Tesla T4            Off  | 00000000:00:04.0 Off |                    0 |\n",
            "| N/A   38C    P8     9W /  70W |      0MiB / 15109MiB |      0%      Default |\n",
            "|                               |                      |                  N/A |\n",
            "+-------------------------------+----------------------+----------------------+\n",
            "                                                                               \n",
            "+-----------------------------------------------------------------------------+\n",
            "| Processes:                                                                  |\n",
            "|  GPU   GI   CI        PID   Type   Process name                  GPU Memory |\n",
            "|        ID   ID                                                   Usage      |\n",
            "|=============================================================================|\n",
            "|  No running processes found                                                 |\n",
            "+-----------------------------------------------------------------------------+\n"
          ],
          "name": "stdout"
        }
      ]
    },
    {
      "cell_type": "code",
      "metadata": {
        "colab": {
          "base_uri": "https://localhost:8080/",
          "height": 204
        },
        "id": "oJ4-iq6oxoas",
        "outputId": "0c57904e-bb49-444a-95de-44bdf75c2dfb"
      },
      "source": [
        "import pandas as pd\n",
        "\n",
        "trainLabels = pd.read_csv(\"/content/drive/MyDrive/Diabetic Retinopathy Detection/sampleSubmission.csv\")\n",
        "trainLabels.head()"
      ],
      "execution_count": null,
      "outputs": [
        {
          "output_type": "execute_result",
          "data": {
            "text/html": [
              "<div>\n",
              "<style scoped>\n",
              "    .dataframe tbody tr th:only-of-type {\n",
              "        vertical-align: middle;\n",
              "    }\n",
              "\n",
              "    .dataframe tbody tr th {\n",
              "        vertical-align: top;\n",
              "    }\n",
              "\n",
              "    .dataframe thead th {\n",
              "        text-align: right;\n",
              "    }\n",
              "</style>\n",
              "<table border=\"1\" class=\"dataframe\">\n",
              "  <thead>\n",
              "    <tr style=\"text-align: right;\">\n",
              "      <th></th>\n",
              "      <th>image</th>\n",
              "      <th>level</th>\n",
              "    </tr>\n",
              "  </thead>\n",
              "  <tbody>\n",
              "    <tr>\n",
              "      <th>0</th>\n",
              "      <td>1_left</td>\n",
              "      <td>0</td>\n",
              "    </tr>\n",
              "    <tr>\n",
              "      <th>1</th>\n",
              "      <td>1_right</td>\n",
              "      <td>0</td>\n",
              "    </tr>\n",
              "    <tr>\n",
              "      <th>2</th>\n",
              "      <td>2_left</td>\n",
              "      <td>0</td>\n",
              "    </tr>\n",
              "    <tr>\n",
              "      <th>3</th>\n",
              "      <td>2_right</td>\n",
              "      <td>0</td>\n",
              "    </tr>\n",
              "    <tr>\n",
              "      <th>4</th>\n",
              "      <td>3_left</td>\n",
              "      <td>0</td>\n",
              "    </tr>\n",
              "  </tbody>\n",
              "</table>\n",
              "</div>"
            ],
            "text/plain": [
              "     image  level\n",
              "0   1_left      0\n",
              "1  1_right      0\n",
              "2   2_left      0\n",
              "3  2_right      0\n",
              "4   3_left      0"
            ]
          },
          "metadata": {
            "tags": []
          },
          "execution_count": 4
        }
      ]
    },
    {
      "cell_type": "code",
      "metadata": {
        "colab": {
          "base_uri": "https://localhost:8080/"
        },
        "id": "9WZRgfLLHaKP",
        "outputId": "ef18ad6e-e848-495a-aec1-6fb709de8b21"
      },
      "source": [
        "import numpy as np # linear algebra\n",
        "import pandas as pd # data processing, CSV file I/O (e.g. pd.read_csv)\n",
        "import os\n",
        "import random\n",
        "import sys\n",
        "import cv2\n",
        "import matplotlib\n",
        "from subprocess import check_output\n",
        "\n",
        "from keras.models import Sequential\n",
        "from keras.layers import Dense, Conv2D, MaxPooling2D, Dropout, Flatten\n",
        "from keras.preprocessing.image import ImageDataGenerator, array_to_img, img_to_array, load_img\n",
        "from keras.optimizers import Adam\n",
        "from sklearn.model_selection import train_test_split\n",
        "from keras.utils import to_categorical\n",
        "#list the files in the input directory\n",
        "print(os.listdir(\"/content/drive/MyDrive/Diabetic Retinopathy Detection\"))\n",
        "print(check_output([\"ls\", \"/content/drive/MyDrive/Diabetic Retinopathy Detection/trainLabels.csv\"]).decode(\"utf8\")) #trainLabels.csv\n",
        "print(check_output([\"pwd\", \"\"]).decode(\"utf8\")) \n",
        "#classes : 0 - No DR, 1 - Mild, 2 - Moderate, 3 - Severe, 4 - Proliferative DR\n",
        "def classes_to_int(label):\n",
        "    # label = classes.index(dir)\n",
        "    label = label.strip()\n",
        "    if label == \"No DR\":  return 0\n",
        "    if label == \"Mild\":  return 1\n",
        "    if label == \"Moderate\":  return 2\n",
        "    if label == \"Severe\":  return 3\n",
        "    if label == \"Proliferative DR\":  return 4\n",
        "    print(\"Invalid Label\", label)\n",
        "    return 5\n",
        "\n",
        "def int_to_classes(i):\n",
        "    if i == 0: return \"No DR\"\n",
        "    elif i == 1: return \"Mild\"\n",
        "    elif i == 2: return \"Moderate\"\n",
        "    elif i == 3: return \"Severe\"\n",
        "    elif i == 4: return \"Proliferative DR\"\n",
        "    print(\"Invalid class \", i)\n",
        "    return \"Invalid Class\""
      ],
      "execution_count": null,
      "outputs": [
        {
          "output_type": "stream",
          "text": [
            "['trainLabels.csv', 'sampleSubmission.csv', 'sample', 'train', 'trainLabelsTrain.csv', 'trainLabels1.csv', 'train1', 'Deployment-Deep-Learning-Model-master']\n",
            "/content/drive/MyDrive/Diabetic Retinopathy Detection/trainLabels.csv\n",
            "\n",
            "/content\n",
            "\n"
          ],
          "name": "stdout"
        }
      ]
    },
    {
      "cell_type": "code",
      "metadata": {
        "id": "CgctNtjjIlTb"
      },
      "source": [
        "NUM_CLASSES = 5\n",
        "# we need images of same size so we convert them into the size\n",
        "WIDTH = 128\n",
        "HEIGHT = 128\n",
        "DEPTH = 3\n",
        "inputShape = (HEIGHT, WIDTH, DEPTH)\n",
        "# initialize number of epochs to train for, initial learning rate and batch size\n",
        "EPOCHS = 15\n",
        "INIT_LR = 1e-3\n",
        "BS = 32\n",
        "#global variables\n",
        "ImageNameDataHash = {}\n",
        "uniquePatientIDList = []\n",
        "def readTrainData(trainDir):\n",
        "    global ImageNameDataHash\n",
        "    # loop over the input images\n",
        "    images = os.listdir(trainDir)\n",
        "    print(\"Number of files in \" + trainDir + \" is \" + str(len(images)))\n",
        "    for imageFileName in images:\n",
        "        if (imageFileName == \"sampleSubmission.csv\"):\n",
        "            continue\n",
        "        # load the image, pre-process it, and store it in the data list\n",
        "        imageFullPath = os.path.join(os.path.sep, trainDir, imageFileName)\n",
        "        #print(imageFullPath)\n",
        "        img = load_img(imageFullPath)\n",
        "        arr = img_to_array(img)  # Numpy array with shape (233,233,3)\n",
        "        dim1 = arr.shape[0]\n",
        "        dim2 = arr.shape[1]\n",
        "        dim3 = arr.shape[2]\n",
        "        if (dim1 < HEIGHT or dim2 < WIDTH or dim3 < DEPTH):\n",
        "            print(\"Error image dimensions are less than expected \"+str(arr.shape))\n",
        "        arr = cv2.resize(arr, (HEIGHT,WIDTH)) #Numpy array with shape (HEIGHT, WIDTH,3)\n",
        "        #print(arr.shape) # 128,128,3\n",
        "        dim1 = arr.shape[0]\n",
        "        dim2 = arr.shape[1]\n",
        "        dim3 = arr.shape[2]\n",
        "        if (dim1 != HEIGHT or dim2 != WIDTH or dim3 != DEPTH):\n",
        "            print(\"Error after resize, image dimensions are not equal to expected \"+str(arr.shape))\n",
        "        #print(type(arr))\n",
        "        # scale the raw pixel intensities to the range [0, 1] - TBD TEST\n",
        "        arr = np.array(arr, dtype=\"float\") / 255.0\n",
        "        imageFileName = imageFileName.replace('.jpeg','')\n",
        "        ImageNameDataHash[str(imageFileName)] = np.array(arr) \n",
        "    return"
      ],
      "execution_count": null,
      "outputs": []
    },
    {
      "cell_type": "code",
      "metadata": {
        "colab": {
          "base_uri": "https://localhost:8080/"
        },
        "id": "cw0GVF_iQiP4",
        "outputId": "9935e7e6-f21b-4f91-de96-db41d1b04012"
      },
      "source": [
        "from datetime import datetime\n",
        "print(\"Loading images at...\"+ str(datetime.now()))\n",
        "sys.stdout.flush()\n",
        "readTrainData(\"/content/drive/MyDrive/Diabetic Retinopathy Detection/train\")\n",
        "print(\"Loaded \" + str(len(ImageNameDataHash)) + \" images at...\"+ str(datetime.now())) # 1500\n"
      ],
      "execution_count": null,
      "outputs": [
        {
          "output_type": "stream",
          "text": [
            "Loading images at...2021-03-12 06:51:06.124898\n",
            "Number of files in /content/drive/MyDrive/Diabetic Retinopathy Detection/train is 1500\n",
            "Loaded 1500 images at...2021-03-12 07:04:52.155123\n"
          ],
          "name": "stdout"
        }
      ]
    },
    {
      "cell_type": "code",
      "metadata": {
        "id": "nCg0tA9iQwuE"
      },
      "source": [
        "#csv contains image\tlevel\n",
        "#10_left 0\n",
        "#10_right 0\n",
        "import csv\n",
        "def readTrainCsv():\n",
        "    raw_df = pd.read_csv('/content/drive/MyDrive/Diabetic Retinopathy Detection/trainLabels.csv', sep=',')\n",
        "    print(type(raw_df)) #<class 'pandas.core.frame.DataFrame'>\n",
        "    row_count=raw_df.shape[0] #gives number of row count row_count=35126 \n",
        "    col_count=raw_df.shape[1] #gives number of col count col count=2\n",
        "    print(\"row_count=\"+str(row_count)+\" col count=\"+str(col_count))\n",
        "    raw_df[\"PatientID\"] = ''\n",
        "    header_list = list(raw_df.columns)\n",
        "    print(header_list) # ['image', 'level', 'PatientID']\n",
        "    # double check if level of left and right are same or not\n",
        "    ImageLevelHash = {}\n",
        "    patientIDList = []\n",
        "    for index, row in raw_df.iterrows():\n",
        "        # 0 is image, 1 is level, 2 is PatientID, 3 is data\n",
        "        key = row[0] + ''\n",
        "        patientID = row[0] + ''\n",
        "        patientID = patientID.replace('_right','')\n",
        "        patientID = patientID.replace('_left','')\n",
        "        #print(\"Adding patient ID\"+ patientID)\n",
        "        raw_df.at[index, 'PatientID'] = patientID\n",
        "        patientIDList.append(patientID)\n",
        "        ImageLevelHash[key] = str(row[1]) # level\n",
        "                \n",
        "    global uniquePatientIDList\n",
        "    uniquePatientIDList = sorted(set(patientIDList))\n",
        "    count=0;\n",
        "    for patientID in uniquePatientIDList:\n",
        "        left_level = ImageLevelHash[str(patientID+'_left')]\n",
        "        right_level = ImageLevelHash[str(patientID+'_right')]\n",
        "        #right_exists = str(patientID+'_right') in raw_df.values\n",
        "        if (left_level != right_level):\n",
        "            count = count+1\n",
        "            #print(\"Warning for patient=\"+ str(patientID) + \" left_level=\" + left_level+ \" right_level=\" +right_level)\n",
        "    print(\"count of images with both left and right eye level not matching=\"+str(count)) # 2240\n",
        "    print(\"number of unique patients=\"+str(len(uniquePatientIDList))) # 17563\n",
        "    return raw_df"
      ],
      "execution_count": null,
      "outputs": []
    },
    {
      "cell_type": "code",
      "metadata": {
        "colab": {
          "base_uri": "https://localhost:8080/"
        },
        "id": "6ngYpnzfR8ux",
        "outputId": "c1c04af3-3689-47c1-bfd8-f3241d958802"
      },
      "source": [
        "random.seed(10)\n",
        "print(\"Reading trainLabels.csv...\")\n",
        "df = readTrainCsv()"
      ],
      "execution_count": null,
      "outputs": [
        {
          "output_type": "stream",
          "text": [
            "Reading trainLabels.csv...\n",
            "<class 'pandas.core.frame.DataFrame'>\n",
            "row_count=35126 col count=2\n",
            "['image', 'level', 'PatientID']\n",
            "count of images with both left and right eye level not matching=2240\n",
            "number of unique patients=17563\n"
          ],
          "name": "stdout"
        }
      ]
    },
    {
      "cell_type": "code",
      "metadata": {
        "colab": {
          "base_uri": "https://localhost:8080/"
        },
        "id": "mHHUamF2SKL9",
        "outputId": "949e53f2-3946-42a5-fb40-8ec31b55e38a"
      },
      "source": [
        "for i in range(0,10):\n",
        "    s = df.loc[df.index[i], 'PatientID'] # get patient id of patients\n",
        "    print(str(i) + \" patient's patientID=\"+str(s))"
      ],
      "execution_count": null,
      "outputs": [
        {
          "output_type": "stream",
          "text": [
            "0 patient's patientID=10\n",
            "1 patient's patientID=10\n",
            "2 patient's patientID=13\n",
            "3 patient's patientID=13\n",
            "4 patient's patientID=15\n",
            "5 patient's patientID=15\n",
            "6 patient's patientID=16\n",
            "7 patient's patientID=16\n",
            "8 patient's patientID=17\n",
            "9 patient's patientID=17\n"
          ],
          "name": "stdout"
        }
      ]
    },
    {
      "cell_type": "code",
      "metadata": {
        "colab": {
          "base_uri": "https://localhost:8080/"
        },
        "id": "Dt_oUBbFUmDr",
        "outputId": "515cb59b-6fec-4531-beb0-f281aed09086"
      },
      "source": [
        "# df has 3 columns ['image', 'level', 'PatientID']\n",
        "keepImages =  list(ImageNameDataHash.keys())\n",
        "df = df[df['image'].isin(keepImages)]\n",
        "print(len(df)) # 1500"
      ],
      "execution_count": null,
      "outputs": [
        {
          "output_type": "stream",
          "text": [
            "1500\n"
          ],
          "name": "stdout"
        }
      ]
    },
    {
      "cell_type": "code",
      "metadata": {
        "colab": {
          "base_uri": "https://localhost:8080/"
        },
        "id": "-wTZntkkUtX-",
        "outputId": "79a65198-70b9-46b6-b808-3793d9160f4c"
      },
      "source": [
        "#convert hash to dataframe\n",
        "imageNameArr = []\n",
        "dataArr = []\n",
        "for index, row in df.iterrows():\n",
        "    key = str(row[0])\n",
        "    if key in ImageNameDataHash:\n",
        "        imageNameArr.append(key)\n",
        "        dataArr.append(np.array(ImageNameDataHash[key])) # np.array\n",
        "\n",
        "df2 = pd.DataFrame({'image': imageNameArr, 'data': dataArr})\n",
        "df2_header_list = list(df2.columns) \n",
        "print(df2_header_list) # ['image', 'data']\n",
        "print(len(df2)) # 1000\n",
        "print(df2.describe(include='all'))\n",
        "print(df2.sample(3)) # 3 rows x 2 columns"
      ],
      "execution_count": null,
      "outputs": [
        {
          "output_type": "stream",
          "text": [
            "['image', 'data']\n",
            "1500\n",
            "             image                                               data\n",
            "count         1500                                               1500\n",
            "unique        1500                                               1500\n",
            "top     2425_right  [[[0.0, 0.0, 0.0], [0.0, 0.0, 0.0], [0.0, 0.0,...\n",
            "freq             1                                                  1\n",
            "           image                                               data\n",
            "812    2812_left  [[[0.0, 0.0, 0.0], [0.0, 0.0, 0.0], [0.0, 0.0,...\n",
            "602    2553_left  [[[0.0, 0.0, 0.0], [0.0, 0.0, 0.0], [0.0, 0.0,...\n",
            "1206  19930_left  [[[0.0, 0.0, 0.0], [0.0, 0.0, 0.0], [0.0, 0.0,...\n"
          ],
          "name": "stdout"
        }
      ]
    },
    {
      "cell_type": "code",
      "metadata": {
        "colab": {
          "base_uri": "https://localhost:8080/"
        },
        "id": "B3JR91i3VK6O",
        "outputId": "767a1881-3e11-4a30-9ab1-e4435a33111b"
      },
      "source": [
        "if len(df) != len(df2):\n",
        "    print(\"Error length of df != df2\")\n",
        "    \n",
        "for idx in range(0,len(df)):\n",
        "    if (df.loc[df.index[idx], 'image'] != df2.loc[df2.index[idx], 'image']):\n",
        "        print(\"Error \" + df.loc[df.index[idx], 'image'] +\"==\" + df2.loc[df2.index[idx], 'image'])\n",
        "        \n",
        "print(df2.dtypes)\n",
        "print(df.dtypes)"
      ],
      "execution_count": null,
      "outputs": [
        {
          "output_type": "stream",
          "text": [
            "image    object\n",
            "data     object\n",
            "dtype: object\n",
            "image        object\n",
            "level         int64\n",
            "PatientID    object\n",
            "dtype: object\n"
          ],
          "name": "stdout"
        }
      ]
    },
    {
      "cell_type": "code",
      "metadata": {
        "colab": {
          "base_uri": "https://localhost:8080/"
        },
        "id": "3E24v2UlVPKC",
        "outputId": "e2c987e4-eb2c-4268-a501-372247926cd8"
      },
      "source": [
        "df = pd.merge(df2, df, left_on='image', right_on='image', how='outer')\n",
        "df_header_list = list(df.columns) \n",
        "print(df_header_list) # 'image', 'data', level', 'PatientID'\n",
        "print(len(df)) # 1500\n",
        "print(df.sample())"
      ],
      "execution_count": null,
      "outputs": [
        {
          "output_type": "stream",
          "text": [
            "['image', 'data', 'level', 'PatientID']\n",
            "1500\n",
            "            image  ... PatientID\n",
            "1465  20209_right  ...     20209\n",
            "\n",
            "[1 rows x 4 columns]\n"
          ],
          "name": "stdout"
        }
      ]
    },
    {
      "cell_type": "code",
      "metadata": {
        "colab": {
          "base_uri": "https://localhost:8080/",
          "height": 1000
        },
        "id": "LZt2v__mVTD8",
        "outputId": "dfef2c39-55a4-41b6-bf55-5368f785983f"
      },
      "source": [
        "sample0 = df.loc[df.index[12], 'data']\n",
        "print(sample0)\n",
        "print(type(sample0)) # <class 'numpy.ndarray'>\n",
        "print(sample0.shape) # 128,128,3\n",
        "from matplotlib import pyplot as plt\n",
        "plt.imshow(sample0, interpolation='nearest')\n",
        "plt.show()\n",
        "print(\"Sample Image\")"
      ],
      "execution_count": null,
      "outputs": [
        {
          "output_type": "stream",
          "text": [
            "[[[0. 0. 0.]\n",
            "  [0. 0. 0.]\n",
            "  [0. 0. 0.]\n",
            "  ...\n",
            "  [0. 0. 0.]\n",
            "  [0. 0. 0.]\n",
            "  [0. 0. 0.]]\n",
            "\n",
            " [[0. 0. 0.]\n",
            "  [0. 0. 0.]\n",
            "  [0. 0. 0.]\n",
            "  ...\n",
            "  [0. 0. 0.]\n",
            "  [0. 0. 0.]\n",
            "  [0. 0. 0.]]\n",
            "\n",
            " [[0. 0. 0.]\n",
            "  [0. 0. 0.]\n",
            "  [0. 0. 0.]\n",
            "  ...\n",
            "  [0. 0. 0.]\n",
            "  [0. 0. 0.]\n",
            "  [0. 0. 0.]]\n",
            "\n",
            " ...\n",
            "\n",
            " [[0. 0. 0.]\n",
            "  [0. 0. 0.]\n",
            "  [0. 0. 0.]\n",
            "  ...\n",
            "  [0. 0. 0.]\n",
            "  [0. 0. 0.]\n",
            "  [0. 0. 0.]]\n",
            "\n",
            " [[0. 0. 0.]\n",
            "  [0. 0. 0.]\n",
            "  [0. 0. 0.]\n",
            "  ...\n",
            "  [0. 0. 0.]\n",
            "  [0. 0. 0.]\n",
            "  [0. 0. 0.]]\n",
            "\n",
            " [[0. 0. 0.]\n",
            "  [0. 0. 0.]\n",
            "  [0. 0. 0.]\n",
            "  ...\n",
            "  [0. 0. 0.]\n",
            "  [0. 0. 0.]\n",
            "  [0. 0. 0.]]]\n",
            "<class 'numpy.ndarray'>\n",
            "(128, 128, 3)\n"
          ],
          "name": "stdout"
        },
        {
          "output_type": "display_data",
          "data": {
            "image/png": "[encoded data removed]",
            "text/plain": [
              "<Figure size 432x288 with 1 Axes>"
            ]
          },
          "metadata": {
            "tags": [],
            "needs_background": "light"
          }
        },
        {
          "output_type": "stream",
          "text": [
            "Sample Image\n"
          ],
          "name": "stdout"
        }
      ]
    },
    {
      "cell_type": "code",
      "metadata": {
        "id": "ovIij0lLHKCD"
      },
      "source": [
        "X = df['data']\n",
        "Y = df['level']\n",
        "# scale the raw pixel intensities to the range [0, 1]\n",
        "#print(type(X)) # 'pandas.core.series.Series'\n",
        "#X = np.array(X, dtype=\"float\") / 255.0 -- TBD moved to top\n",
        "Y = np.array(Y)\n",
        "# convert the labels from integers to vectors\n",
        "Y =  to_categorical(Y, num_classes=NUM_CLASSES)"
      ],
      "execution_count": null,
      "outputs": []
    },
    {
      "cell_type": "code",
      "metadata": {
        "colab": {
          "base_uri": "https://localhost:8080/"
        },
        "id": "D7n7xTzSHZ2I",
        "outputId": "77d896c8-f3c1-4a22-8ad1-b7e445ad4b26"
      },
      "source": [
        "# partition the data into training and testing splits using 75% training and 25% for validation\n",
        "print(\"Parttition data into 75:25...\")\n",
        "sys.stdout.flush()\n",
        "print(\"Unique patients in dataframe df=\" + str(df.PatientID.nunique())) #\n",
        "unique_ids = df.PatientID.unique()\n",
        "print('unique_ids shape='+ str(len(unique_ids))) #\n",
        "\n",
        "train_ids, valid_ids = train_test_split(unique_ids, test_size = 0.25, random_state = 10) #stratify = rr_df['level'])\n",
        "trainid_list = train_ids.tolist()\n",
        "print('trainid_list shape=', str(len(trainid_list))) # \n",
        "\n",
        "traindf = df[df.PatientID.isin(trainid_list)]\n",
        "valSet = df[~df.PatientID.isin(trainid_list)]"
      ],
      "execution_count": null,
      "outputs": [
        {
          "output_type": "stream",
          "text": [
            "Parttition data into 75:25...\n",
            "Unique patients in dataframe df=750\n",
            "unique_ids shape=750\n",
            "trainid_list shape= 562\n"
          ],
          "name": "stdout"
        }
      ]
    },
    {
      "cell_type": "code",
      "metadata": {
        "colab": {
          "base_uri": "https://localhost:8080/"
        },
        "id": "4Jg3htjcHjDQ",
        "outputId": "e3ab6aea-a4dc-488b-c58a-62c44408070e"
      },
      "source": [
        "print(traindf.head())\n",
        "print(valSet.head())\n",
        "\n",
        "traindf = traindf.reset_index(drop=True)\n",
        "valSet = valSet.reset_index(drop=True)\n",
        "\n",
        "print(traindf.head())\n",
        "print(valSet.head())"
      ],
      "execution_count": null,
      "outputs": [
        {
          "output_type": "stream",
          "text": [
            "      image                                               data  level PatientID\n",
            "0   19_left  [[[0.0, 0.0, 0.0], [0.0, 0.0, 0.0], [0.0, 0.0,...      0        19\n",
            "1  19_right  [[[0.0, 0.0, 0.0], [0.0, 0.00784313725490196, ...      0        19\n",
            "4   21_left  [[[0.0, 0.0, 0.0], [0.0, 0.0, 0.0], [0.0, 0.0,...      0        21\n",
            "5  21_right  [[[0.0, 0.0, 0.0], [0.0, 0.0, 0.0], [0.0, 0.0,...      0        21\n",
            "6   22_left  [[[0.0, 0.0, 0.0], [0.0, 0.0, 0.0], [0.0, 0.0,...      0        22\n",
            "        image  ... PatientID\n",
            "2     20_left  ...        20\n",
            "3    20_right  ...        20\n",
            "12   195_left  ...       195\n",
            "13  195_right  ...       195\n",
            "14   197_left  ...       197\n",
            "\n",
            "[5 rows x 4 columns]\n",
            "      image                                               data  level PatientID\n",
            "0   19_left  [[[0.0, 0.0, 0.0], [0.0, 0.0, 0.0], [0.0, 0.0,...      0        19\n",
            "1  19_right  [[[0.0, 0.0, 0.0], [0.0, 0.00784313725490196, ...      0        19\n",
            "2   21_left  [[[0.0, 0.0, 0.0], [0.0, 0.0, 0.0], [0.0, 0.0,...      0        21\n",
            "3  21_right  [[[0.0, 0.0, 0.0], [0.0, 0.0, 0.0], [0.0, 0.0,...      0        21\n",
            "4   22_left  [[[0.0, 0.0, 0.0], [0.0, 0.0, 0.0], [0.0, 0.0,...      0        22\n",
            "       image  ... PatientID\n",
            "0    20_left  ...        20\n",
            "1   20_right  ...        20\n",
            "2   195_left  ...       195\n",
            "3  195_right  ...       195\n",
            "4   197_left  ...       197\n",
            "\n",
            "[5 rows x 4 columns]\n"
          ],
          "name": "stdout"
        }
      ]
    },
    {
      "cell_type": "code",
      "metadata": {
        "colab": {
          "base_uri": "https://localhost:8080/"
        },
        "id": "17vl-4rIIOy_",
        "outputId": "7a35b376-958d-4d7f-ea04-aea5235a4b11"
      },
      "source": [
        "trainX = traindf['data']\n",
        "trainY = traindf['level']\n",
        "\n",
        "valX = valSet['data']\n",
        "valY = valSet['level']\n",
        "\n",
        "#(trainX, valX, trainY, valY) = train_test_split(X,Y,test_size=0.25, random_state=10)\n",
        "print('trainX shape=', trainX.shape[0], 'valX shape=', valX.shape[0]) # train and val"
      ],
      "execution_count": null,
      "outputs": [
        {
          "output_type": "stream",
          "text": [
            "trainX shape= 1124 valX shape= 376\n"
          ],
          "name": "stdout"
        }
      ]
    },
    {
      "cell_type": "code",
      "metadata": {
        "id": "mzflBN9BIaQV"
      },
      "source": [
        "trainY =  to_categorical(trainY, num_classes=NUM_CLASSES)\n",
        "valY =  to_categorical(valY, num_classes=NUM_CLASSES)"
      ],
      "execution_count": null,
      "outputs": []
    },
    {
      "cell_type": "code",
      "metadata": {
        "colab": {
          "base_uri": "https://localhost:8080/"
        },
        "id": "i7sIF4S6IghT",
        "outputId": "3183db33-dc0c-4e32-eaea-01b5a849d346"
      },
      "source": [
        "#construct the image generator for data augmentation\n",
        "print(\"Generating images...\")\n",
        "sys.stdout.flush()\n",
        "aug = ImageDataGenerator(rotation_range=30, width_shift_range=0.1, \\\n",
        "    height_shift_range=0.1, shear_range=0.2, zoom_range=0.2,\\\n",
        "    horizontal_flip=True, fill_mode=\"nearest\")\n"
      ],
      "execution_count": null,
      "outputs": [
        {
          "output_type": "stream",
          "text": [
            "Generating images...\n"
          ],
          "name": "stdout"
        }
      ]
    },
    {
      "cell_type": "code",
      "metadata": {
        "id": "Z1c4zIweIjV0"
      },
      "source": [
        "def createModel():\n",
        "    model = Sequential()\n",
        "    # first set of CONV => RELU => MAX POOL layers\n",
        "    model.add(Conv2D(32, (3, 3), padding='same', activation='relu', input_shape=inputShape))\n",
        "    model.add(Conv2D(32, (3, 3), activation='relu'))\n",
        "    model.add(MaxPooling2D(pool_size=(2, 2)))\n",
        "    model.add(Dropout(0.5))\n",
        "    \n",
        "    model.add(Conv2D(64, (3, 3), padding='same', activation='relu'))\n",
        "    model.add(Conv2D(64, (3, 3), activation='relu'))\n",
        "    model.add(MaxPooling2D(pool_size=(2, 2)))\n",
        "    model.add(Dropout(0.5))\n",
        "    \n",
        "    model.add(Conv2D(128, (3, 3), padding='same', activation='relu'))\n",
        "    model.add(Conv2D(128, (3, 3), activation='relu'))\n",
        "    model.add(MaxPooling2D(pool_size=(2, 2)))\n",
        "    model.add(Dropout(0.5))\n",
        "    \n",
        "    model.add(Flatten())\n",
        "    model.add(Dense(512, activation='relu'))\n",
        "    model.add(Dropout(0.5))\n",
        "    model.add(Dense(NUM_CLASSES, activation='softmax'))\n",
        "    # returns our fully constructed deep learning + Keras image classifier \n",
        "    opt = Adam(lr=INIT_LR, decay=INIT_LR / EPOCHS)\n",
        "    # use binary_crossentropy if there are two classes\n",
        "    model.compile(loss=\"categorical_crossentropy\", optimizer=opt, metrics=[\"accuracy\"])\n",
        "    return model"
      ],
      "execution_count": null,
      "outputs": []
    },
    {
      "cell_type": "code",
      "metadata": {
        "colab": {
          "base_uri": "https://localhost:8080/"
        },
        "id": "M5OytKkOI58p",
        "outputId": "64338e44-f758-42e8-8d39-1f7024d88672"
      },
      "source": [
        "print(\"Reshaping trainX at...\"+ str(datetime.now()))\n",
        "#print(trainX.sample()) \n",
        "print(type(trainX)) # <class 'pandas.core.series.Series'>\n",
        "print(trainX.shape) # (750,)\n",
        "from numpy import zeros\n",
        "Xtrain = np.zeros([trainX.shape[0],HEIGHT, WIDTH, DEPTH])\n",
        "for i in range(trainX.shape[0]): # 0 to traindf Size -1\n",
        "    Xtrain[i] = trainX[i]\n",
        "print(Xtrain.shape) # (750,128,128,3)\n",
        "print(\"Reshaped trainX at...\"+ str(datetime.now()))"
      ],
      "execution_count": null,
      "outputs": [
        {
          "output_type": "stream",
          "text": [
            "Reshaping trainX at...2021-03-12 07:10:27.130083\n",
            "<class 'pandas.core.series.Series'>\n",
            "(1124,)\n",
            "(1124, 128, 128, 3)\n",
            "Reshaped trainX at...2021-03-12 07:10:27.454920\n"
          ],
          "name": "stdout"
        }
      ]
    },
    {
      "cell_type": "code",
      "metadata": {
        "colab": {
          "base_uri": "https://localhost:8080/"
        },
        "id": "dWePMEiLI_px",
        "outputId": "fadce028-4d7d-40a5-9bfb-48593f11ebe1"
      },
      "source": [
        "print(\"Reshaping valX at...\"+ str(datetime.now()))\n",
        "print(type(valX)) # <class 'pandas.core.series.Series'>\n",
        "print(valX.shape) # (250,)\n",
        "from numpy import zeros\n",
        "Xval = np.zeros([valX.shape[0],HEIGHT, WIDTH, DEPTH])\n",
        "for i in range(valX.shape[0]): # 0 to traindf Size -1\n",
        "    Xval[i] = valX[i]\n",
        "print(Xval.shape) # (250,128,128,3)\n",
        "print(\"Reshaped valX at...\"+ str(datetime.now()))"
      ],
      "execution_count": null,
      "outputs": [
        {
          "output_type": "stream",
          "text": [
            "Reshaping valX at...2021-03-12 07:10:29.033121\n",
            "<class 'pandas.core.series.Series'>\n",
            "(376,)\n",
            "(376, 128, 128, 3)\n",
            "Reshaped valX at...2021-03-12 07:10:29.144958\n"
          ],
          "name": "stdout"
        }
      ]
    },
    {
      "cell_type": "code",
      "metadata": {
        "colab": {
          "base_uri": "https://localhost:8080/",
          "height": 1000
        },
        "id": "1YlfWzRGJPx_",
        "outputId": "d353d9e3-889b-4e26-c8b9-942eb2a49570"
      },
      "source": [
        "# initialize the model\n",
        "print(\"compiling model...\")\n",
        "sys.stdout.flush()\n",
        "model = createModel()\n",
        "\n",
        "# print the summary of model\n",
        "#from keras.utils import print_summary\n",
        "#print_summary(model, line_length=None, positions=None, print_fn=None)\n",
        "\n",
        "# add some visualization\n",
        "from IPython.display import SVG\n",
        "from keras.utils.vis_utils import model_to_dot\n",
        "SVG(model_to_dot(model).create(prog='dot', format='svg'))"
      ],
      "execution_count": null,
      "outputs": [
        {
          "output_type": "stream",
          "text": [
            "compiling model...\n"
          ],
          "name": "stdout"
        },
        {
          "output_type": "execute_result",
          "data": {
            "text/plain": [
              "<IPython.core.display.SVG object>"
            ],
            "image/svg+xml": "<svg height=\"1617pt\" viewBox=\"0.00 0.00 229.00 1213.00\" width=\"305pt\" xmlns=\"http://www.w3.org/2000/svg\" xmlns:xlink=\"http://www.w3.org/1999/xlink\">\n<g class=\"graph\" id=\"graph0\" transform=\"scale(1.3333 1.3333) rotate(0) translate(4 1209)\">\n<title>G</title>\n<polygon fill=\"#ffffff\" points=\"-4,4 -4,-1209 225,-1209 225,4 -4,4\" stroke=\"transparent\"/>\n<!-- 139681911714960 -->\n<g class=\"node\" id=\"node1\">\n<title>139681911714960</title>\n<polygon fill=\"none\" points=\"26,-1168.5 26,-1204.5 195,-1204.5 195,-1168.5 26,-1168.5\" stroke=\"#000000\"/>\n<text fill=\"#000000\" font-family=\"Times,serif\" font-size=\"14.00\" text-anchor=\"middle\" x=\"110.5\" y=\"-1182.8\">conv2d_input: InputLayer</text>\n</g>\n<!-- 139681911722768 -->\n<g class=\"node\" id=\"node2\">\n<title>139681911722768</title>\n<polygon fill=\"none\" points=\"51.5,-1095.5 51.5,-1131.5 169.5,-1131.5 169.5,-1095.5 51.5,-1095.5\" stroke=\"#000000\"/>\n<text fill=\"#000000\" font-family=\"Times,serif\" font-size=\"14.00\" text-anchor=\"middle\" x=\"110.5\" y=\"-1109.8\">conv2d: Conv2D</text>\n</g>\n<!-- 139681911714960&#45;&gt;139681911722768 -->\n<g class=\"edge\" id=\"edge1\">\n<title>139681911714960-&gt;139681911722768</title>\n<path d=\"M110.5,-1168.4551C110.5,-1160.3828 110.5,-1150.6764 110.5,-1141.6817\" fill=\"none\" stroke=\"#000000\"/>\n<polygon fill=\"#000000\" points=\"114.0001,-1141.5903 110.5,-1131.5904 107.0001,-1141.5904 114.0001,-1141.5903\" stroke=\"#000000\"/>\n</g>\n<!-- 139681911717392 -->\n<g class=\"node\" id=\"node3\">\n<title>139681911717392</title>\n<polygon fill=\"none\" points=\"44,-1022.5 44,-1058.5 177,-1058.5 177,-1022.5 44,-1022.5\" stroke=\"#000000\"/>\n<text fill=\"#000000\" font-family=\"Times,serif\" font-size=\"14.00\" text-anchor=\"middle\" x=\"110.5\" y=\"-1036.8\">conv2d_1: Conv2D</text>\n</g>\n<!-- 139681911722768&#45;&gt;139681911717392 -->\n<g class=\"edge\" id=\"edge2\">\n<title>139681911722768-&gt;139681911717392</title>\n<path d=\"M110.5,-1095.4551C110.5,-1087.3828 110.5,-1077.6764 110.5,-1068.6817\" fill=\"none\" stroke=\"#000000\"/>\n<polygon fill=\"#000000\" points=\"114.0001,-1068.5903 110.5,-1058.5904 107.0001,-1068.5904 114.0001,-1068.5903\" stroke=\"#000000\"/>\n</g>\n<!-- 139681912180560 -->\n<g class=\"node\" id=\"node4\">\n<title>139681912180560</title>\n<polygon fill=\"none\" points=\"7.5,-949.5 7.5,-985.5 213.5,-985.5 213.5,-949.5 7.5,-949.5\" stroke=\"#000000\"/>\n<text fill=\"#000000\" font-family=\"Times,serif\" font-size=\"14.00\" text-anchor=\"middle\" x=\"110.5\" y=\"-963.8\">max_pooling2d: MaxPooling2D</text>\n</g>\n<!-- 139681911717392&#45;&gt;139681912180560 -->\n<g class=\"edge\" id=\"edge3\">\n<title>139681911717392-&gt;139681912180560</title>\n<path d=\"M110.5,-1022.4551C110.5,-1014.3828 110.5,-1004.6764 110.5,-995.6817\" fill=\"none\" stroke=\"#000000\"/>\n<polygon fill=\"#000000\" points=\"114.0001,-995.5903 110.5,-985.5904 107.0001,-995.5904 114.0001,-995.5903\" stroke=\"#000000\"/>\n</g>\n<!-- 139681912190032 -->\n<g class=\"node\" id=\"node5\">\n<title>139681912190032</title>\n<polygon fill=\"none\" points=\"51,-876.5 51,-912.5 170,-912.5 170,-876.5 51,-876.5\" stroke=\"#000000\"/>\n<text fill=\"#000000\" font-family=\"Times,serif\" font-size=\"14.00\" text-anchor=\"middle\" x=\"110.5\" y=\"-890.8\">dropout: Dropout</text>\n</g>\n<!-- 139681912180560&#45;&gt;139681912190032 -->\n<g class=\"edge\" id=\"edge4\">\n<title>139681912180560-&gt;139681912190032</title>\n<path d=\"M110.5,-949.4551C110.5,-941.3828 110.5,-931.6764 110.5,-922.6817\" fill=\"none\" stroke=\"#000000\"/>\n<polygon fill=\"#000000\" points=\"114.0001,-922.5903 110.5,-912.5904 107.0001,-922.5904 114.0001,-922.5903\" stroke=\"#000000\"/>\n</g>\n<!-- 139681912169424 -->\n<g class=\"node\" id=\"node6\">\n<title>139681912169424</title>\n<polygon fill=\"none\" points=\"44,-803.5 44,-839.5 177,-839.5 177,-803.5 44,-803.5\" stroke=\"#000000\"/>\n<text fill=\"#000000\" font-family=\"Times,serif\" font-size=\"14.00\" text-anchor=\"middle\" x=\"110.5\" y=\"-817.8\">conv2d_2: Conv2D</text>\n</g>\n<!-- 139681912190032&#45;&gt;139681912169424 -->\n<g class=\"edge\" id=\"edge5\">\n<title>139681912190032-&gt;139681912169424</title>\n<path d=\"M110.5,-876.4551C110.5,-868.3828 110.5,-858.6764 110.5,-849.6817\" fill=\"none\" stroke=\"#000000\"/>\n<polygon fill=\"#000000\" points=\"114.0001,-849.5903 110.5,-839.5904 107.0001,-849.5904 114.0001,-849.5903\" stroke=\"#000000\"/>\n</g>\n<!-- 139681912189264 -->\n<g class=\"node\" id=\"node7\">\n<title>139681912189264</title>\n<polygon fill=\"none\" points=\"44,-730.5 44,-766.5 177,-766.5 177,-730.5 44,-730.5\" stroke=\"#000000\"/>\n<text fill=\"#000000\" font-family=\"Times,serif\" font-size=\"14.00\" text-anchor=\"middle\" x=\"110.5\" y=\"-744.8\">conv2d_3: Conv2D</text>\n</g>\n<!-- 139681912169424&#45;&gt;139681912189264 -->\n<g class=\"edge\" id=\"edge6\">\n<title>139681912169424-&gt;139681912189264</title>\n<path d=\"M110.5,-803.4551C110.5,-795.3828 110.5,-785.6764 110.5,-776.6817\" fill=\"none\" stroke=\"#000000\"/>\n<polygon fill=\"#000000\" points=\"114.0001,-776.5903 110.5,-766.5904 107.0001,-776.5904 114.0001,-776.5903\" stroke=\"#000000\"/>\n</g>\n<!-- 139681912155920 -->\n<g class=\"node\" id=\"node8\">\n<title>139681912155920</title>\n<polygon fill=\"none\" points=\"0,-657.5 0,-693.5 221,-693.5 221,-657.5 0,-657.5\" stroke=\"#000000\"/>\n<text fill=\"#000000\" font-family=\"Times,serif\" font-size=\"14.00\" text-anchor=\"middle\" x=\"110.5\" y=\"-671.8\">max_pooling2d_1: MaxPooling2D</text>\n</g>\n<!-- 139681912189264&#45;&gt;139681912155920 -->\n<g class=\"edge\" id=\"edge7\">\n<title>139681912189264-&gt;139681912155920</title>\n<path d=\"M110.5,-730.4551C110.5,-722.3828 110.5,-712.6764 110.5,-703.6817\" fill=\"none\" stroke=\"#000000\"/>\n<polygon fill=\"#000000\" points=\"114.0001,-703.5903 110.5,-693.5904 107.0001,-703.5904 114.0001,-703.5903\" stroke=\"#000000\"/>\n</g>\n<!-- 139681912152848 -->\n<g class=\"node\" id=\"node9\">\n<title>139681912152848</title>\n<polygon fill=\"none\" points=\"43.5,-584.5 43.5,-620.5 177.5,-620.5 177.5,-584.5 43.5,-584.5\" stroke=\"#000000\"/>\n<text fill=\"#000000\" font-family=\"Times,serif\" font-size=\"14.00\" text-anchor=\"middle\" x=\"110.5\" y=\"-598.8\">dropout_1: Dropout</text>\n</g>\n<!-- 139681912155920&#45;&gt;139681912152848 -->\n<g class=\"edge\" id=\"edge8\">\n<title>139681912155920-&gt;139681912152848</title>\n<path d=\"M110.5,-657.4551C110.5,-649.3828 110.5,-639.6764 110.5,-630.6817\" fill=\"none\" stroke=\"#000000\"/>\n<polygon fill=\"#000000\" points=\"114.0001,-630.5903 110.5,-620.5904 107.0001,-630.5904 114.0001,-630.5903\" stroke=\"#000000\"/>\n</g>\n<!-- 139681912150992 -->\n<g class=\"node\" id=\"node10\">\n<title>139681912150992</title>\n<polygon fill=\"none\" points=\"44,-511.5 44,-547.5 177,-547.5 177,-511.5 44,-511.5\" stroke=\"#000000\"/>\n<text fill=\"#000000\" font-family=\"Times,serif\" font-size=\"14.00\" text-anchor=\"middle\" x=\"110.5\" y=\"-525.8\">conv2d_4: Conv2D</text>\n</g>\n<!-- 139681912152848&#45;&gt;139681912150992 -->\n<g class=\"edge\" id=\"edge9\">\n<title>139681912152848-&gt;139681912150992</title>\n<path d=\"M110.5,-584.4551C110.5,-576.3828 110.5,-566.6764 110.5,-557.6817\" fill=\"none\" stroke=\"#000000\"/>\n<polygon fill=\"#000000\" points=\"114.0001,-557.5903 110.5,-547.5904 107.0001,-557.5904 114.0001,-557.5903\" stroke=\"#000000\"/>\n</g>\n<!-- 139681912162768 -->\n<g class=\"node\" id=\"node11\">\n<title>139681912162768</title>\n<polygon fill=\"none\" points=\"44,-438.5 44,-474.5 177,-474.5 177,-438.5 44,-438.5\" stroke=\"#000000\"/>\n<text fill=\"#000000\" font-family=\"Times,serif\" font-size=\"14.00\" text-anchor=\"middle\" x=\"110.5\" y=\"-452.8\">conv2d_5: Conv2D</text>\n</g>\n<!-- 139681912150992&#45;&gt;139681912162768 -->\n<g class=\"edge\" id=\"edge10\">\n<title>139681912150992-&gt;139681912162768</title>\n<path d=\"M110.5,-511.4551C110.5,-503.3828 110.5,-493.6764 110.5,-484.6817\" fill=\"none\" stroke=\"#000000\"/>\n<polygon fill=\"#000000\" points=\"114.0001,-484.5903 110.5,-474.5904 107.0001,-484.5904 114.0001,-484.5903\" stroke=\"#000000\"/>\n</g>\n<!-- 139681912181200 -->\n<g class=\"node\" id=\"node12\">\n<title>139681912181200</title>\n<polygon fill=\"none\" points=\"0,-365.5 0,-401.5 221,-401.5 221,-365.5 0,-365.5\" stroke=\"#000000\"/>\n<text fill=\"#000000\" font-family=\"Times,serif\" font-size=\"14.00\" text-anchor=\"middle\" x=\"110.5\" y=\"-379.8\">max_pooling2d_2: MaxPooling2D</text>\n</g>\n<!-- 139681912162768&#45;&gt;139681912181200 -->\n<g class=\"edge\" id=\"edge11\">\n<title>139681912162768-&gt;139681912181200</title>\n<path d=\"M110.5,-438.4551C110.5,-430.3828 110.5,-420.6764 110.5,-411.6817\" fill=\"none\" stroke=\"#000000\"/>\n<polygon fill=\"#000000\" points=\"114.0001,-411.5903 110.5,-401.5904 107.0001,-411.5904 114.0001,-411.5903\" stroke=\"#000000\"/>\n</g>\n<!-- 139681912148176 -->\n<g class=\"node\" id=\"node13\">\n<title>139681912148176</title>\n<polygon fill=\"none\" points=\"43.5,-292.5 43.5,-328.5 177.5,-328.5 177.5,-292.5 43.5,-292.5\" stroke=\"#000000\"/>\n<text fill=\"#000000\" font-family=\"Times,serif\" font-size=\"14.00\" text-anchor=\"middle\" x=\"110.5\" y=\"-306.8\">dropout_2: Dropout</text>\n</g>\n<!-- 139681912181200&#45;&gt;139681912148176 -->\n<g class=\"edge\" id=\"edge12\">\n<title>139681912181200-&gt;139681912148176</title>\n<path d=\"M110.5,-365.4551C110.5,-357.3828 110.5,-347.6764 110.5,-338.6817\" fill=\"none\" stroke=\"#000000\"/>\n<polygon fill=\"#000000\" points=\"114.0001,-338.5903 110.5,-328.5904 107.0001,-338.5904 114.0001,-338.5903\" stroke=\"#000000\"/>\n</g>\n<!-- 139681912135952 -->\n<g class=\"node\" id=\"node14\">\n<title>139681912135952</title>\n<polygon fill=\"none\" points=\"61.5,-219.5 61.5,-255.5 159.5,-255.5 159.5,-219.5 61.5,-219.5\" stroke=\"#000000\"/>\n<text fill=\"#000000\" font-family=\"Times,serif\" font-size=\"14.00\" text-anchor=\"middle\" x=\"110.5\" y=\"-233.8\">flatten: Flatten</text>\n</g>\n<!-- 139681912148176&#45;&gt;139681912135952 -->\n<g class=\"edge\" id=\"edge13\">\n<title>139681912148176-&gt;139681912135952</title>\n<path d=\"M110.5,-292.4551C110.5,-284.3828 110.5,-274.6764 110.5,-265.6817\" fill=\"none\" stroke=\"#000000\"/>\n<polygon fill=\"#000000\" points=\"114.0001,-265.5903 110.5,-255.5904 107.0001,-265.5904 114.0001,-265.5903\" stroke=\"#000000\"/>\n</g>\n<!-- 139681997223376 -->\n<g class=\"node\" id=\"node15\">\n<title>139681997223376</title>\n<polygon fill=\"none\" points=\"64.5,-146.5 64.5,-182.5 156.5,-182.5 156.5,-146.5 64.5,-146.5\" stroke=\"#000000\"/>\n<text fill=\"#000000\" font-family=\"Times,serif\" font-size=\"14.00\" text-anchor=\"middle\" x=\"110.5\" y=\"-160.8\">dense: Dense</text>\n</g>\n<!-- 139681912135952&#45;&gt;139681997223376 -->\n<g class=\"edge\" id=\"edge14\">\n<title>139681912135952-&gt;139681997223376</title>\n<path d=\"M110.5,-219.4551C110.5,-211.3828 110.5,-201.6764 110.5,-192.6817\" fill=\"none\" stroke=\"#000000\"/>\n<polygon fill=\"#000000\" points=\"114.0001,-192.5903 110.5,-182.5904 107.0001,-192.5904 114.0001,-192.5903\" stroke=\"#000000\"/>\n</g>\n<!-- 139681912163984 -->\n<g class=\"node\" id=\"node16\">\n<title>139681912163984</title>\n<polygon fill=\"none\" points=\"43.5,-73.5 43.5,-109.5 177.5,-109.5 177.5,-73.5 43.5,-73.5\" stroke=\"#000000\"/>\n<text fill=\"#000000\" font-family=\"Times,serif\" font-size=\"14.00\" text-anchor=\"middle\" x=\"110.5\" y=\"-87.8\">dropout_3: Dropout</text>\n</g>\n<!-- 139681997223376&#45;&gt;139681912163984 -->\n<g class=\"edge\" id=\"edge15\">\n<title>139681997223376-&gt;139681912163984</title>\n<path d=\"M110.5,-146.4551C110.5,-138.3828 110.5,-128.6764 110.5,-119.6817\" fill=\"none\" stroke=\"#000000\"/>\n<polygon fill=\"#000000\" points=\"114.0001,-119.5903 110.5,-109.5904 107.0001,-119.5904 114.0001,-119.5903\" stroke=\"#000000\"/>\n</g>\n<!-- 139681912122896 -->\n<g class=\"node\" id=\"node17\">\n<title>139681912122896</title>\n<polygon fill=\"none\" points=\"57,-.5 57,-36.5 164,-36.5 164,-.5 57,-.5\" stroke=\"#000000\"/>\n<text fill=\"#000000\" font-family=\"Times,serif\" font-size=\"14.00\" text-anchor=\"middle\" x=\"110.5\" y=\"-14.8\">dense_1: Dense</text>\n</g>\n<!-- 139681912163984&#45;&gt;139681912122896 -->\n<g class=\"edge\" id=\"edge16\">\n<title>139681912163984-&gt;139681912122896</title>\n<path d=\"M110.5,-73.4551C110.5,-65.3828 110.5,-55.6764 110.5,-46.6817\" fill=\"none\" stroke=\"#000000\"/>\n<polygon fill=\"#000000\" points=\"114.0001,-46.5903 110.5,-36.5904 107.0001,-46.5904 114.0001,-46.5903\" stroke=\"#000000\"/>\n</g>\n</g>\n</svg>"
          },
          "metadata": {
            "tags": []
          },
          "execution_count": 25
        }
      ]
    },
    {
      "cell_type": "code",
      "metadata": {
        "colab": {
          "base_uri": "https://localhost:8080/"
        },
        "id": "KQb3eRfuJTis",
        "outputId": "ced95d2c-0a84-4bb0-ce39-b00e30947cdb"
      },
      "source": [
        "!pip install np_utils"
      ],
      "execution_count": null,
      "outputs": [
        {
          "output_type": "stream",
          "text": [
            "Requirement already satisfied: np_utils in /usr/local/lib/python3.7/dist-packages (0.5.12.1)\n",
            "Requirement already satisfied: future>=0.16 in /usr/local/lib/python3.7/dist-packages (from np_utils) (0.16.0)\n",
            "Requirement already satisfied: numpy>=1.0 in /usr/local/lib/python3.7/dist-packages (from np_utils) (1.19.5)\n"
          ],
          "name": "stdout"
        }
      ]
    },
    {
      "cell_type": "code",
      "metadata": {
        "colab": {
          "base_uri": "https://localhost:8080/"
        },
        "id": "ZOjhRleULYYv",
        "outputId": "803107cd-1ee9-4940-8365-a72894418a39"
      },
      "source": [
        "# train the network\n",
        "print(\"training network...\")\n",
        "sys.stdout.flush()\n",
        "\n",
        "#class_mode ='categorical', # 2D one-hot encoded labels\n",
        "H = model.fit_generator(aug.flow(Xtrain, trainY, batch_size=BS), \\\n",
        "    validation_data=(Xval, valY), \\\n",
        "    steps_per_epoch=len(trainX) // BS, \\\n",
        "    epochs=EPOCHS, verbose=1)\n",
        "\n",
        "# save the model to disk\n",
        "print(\"Saving model to disk\")\n",
        "sys.stdout.flush()\n",
        "tf.keras.models.save_model(model, 'my_model2.hdf5')"
      ],
      "execution_count": null,
      "outputs": [
        {
          "output_type": "stream",
          "text": [
            "training network...\n"
          ],
          "name": "stdout"
        },
        {
          "output_type": "stream",
          "text": [
            "/usr/local/lib/python3.7/dist-packages/tensorflow/python/keras/engine/training.py:1844: UserWarning: `Model.fit_generator` is deprecated and will be removed in a future version. Please use `Model.fit`, which supports generators.\n",
            "  warnings.warn('`Model.fit_generator` is deprecated and '\n"
          ],
          "name": "stderr"
        },
        {
          "output_type": "stream",
          "text": [
            "Epoch 1/15\n",
            "35/35 [==============================] - 39s 158ms/step - loss: 1.0145 - accuracy: 0.7061 - val_loss: 0.8082 - val_accuracy: 0.7686\n",
            "Epoch 2/15\n",
            "35/35 [==============================] - 4s 126ms/step - loss: 0.8242 - accuracy: 0.7659 - val_loss: 0.7990 - val_accuracy: 0.7686\n",
            "Epoch 3/15\n",
            "35/35 [==============================] - 4s 127ms/step - loss: 0.8233 - accuracy: 0.7531 - val_loss: 0.8252 - val_accuracy: 0.7686\n",
            "Epoch 4/15\n",
            "35/35 [==============================] - 5s 130ms/step - loss: 0.8361 - accuracy: 0.7640 - val_loss: 0.8177 - val_accuracy: 0.7686\n",
            "Epoch 5/15\n",
            "35/35 [==============================] - 4s 126ms/step - loss: 0.7761 - accuracy: 0.7741 - val_loss: 0.8121 - val_accuracy: 0.7686\n",
            "Epoch 6/15\n",
            "35/35 [==============================] - 5s 128ms/step - loss: 0.7926 - accuracy: 0.7748 - val_loss: 0.8028 - val_accuracy: 0.7686\n",
            "Epoch 7/15\n",
            "35/35 [==============================] - 4s 128ms/step - loss: 0.8134 - accuracy: 0.7617 - val_loss: 0.8125 - val_accuracy: 0.7686\n",
            "Epoch 8/15\n",
            "35/35 [==============================] - 4s 125ms/step - loss: 0.7720 - accuracy: 0.7835 - val_loss: 0.8120 - val_accuracy: 0.7686\n",
            "Epoch 9/15\n",
            "35/35 [==============================] - 5s 132ms/step - loss: 0.7866 - accuracy: 0.7738 - val_loss: 0.8066 - val_accuracy: 0.7686\n",
            "Epoch 10/15\n",
            "35/35 [==============================] - 5s 130ms/step - loss: 0.8333 - accuracy: 0.7543 - val_loss: 0.8497 - val_accuracy: 0.7686\n",
            "Epoch 11/15\n",
            "35/35 [==============================] - 5s 132ms/step - loss: 0.8209 - accuracy: 0.7692 - val_loss: 0.8093 - val_accuracy: 0.7686\n",
            "Epoch 12/15\n",
            "35/35 [==============================] - 5s 130ms/step - loss: 0.7899 - accuracy: 0.7653 - val_loss: 0.8038 - val_accuracy: 0.7686\n",
            "Epoch 13/15\n",
            "35/35 [==============================] - 5s 133ms/step - loss: 0.7752 - accuracy: 0.7809 - val_loss: 0.8019 - val_accuracy: 0.7686\n",
            "Epoch 14/15\n",
            "35/35 [==============================] - 5s 132ms/step - loss: 0.7874 - accuracy: 0.7761 - val_loss: 0.8062 - val_accuracy: 0.7686\n",
            "Epoch 15/15\n",
            "35/35 [==============================] - 5s 134ms/step - loss: 0.8910 - accuracy: 0.7281 - val_loss: 0.8048 - val_accuracy: 0.7686\n",
            "Saving model to disk\n"
          ],
          "name": "stdout"
        }
      ]
    },
    {
      "cell_type": "code",
      "metadata": {
        "colab": {
          "base_uri": "https://localhost:8080/",
          "height": 316
        },
        "id": "2Ga6LNyqQbi5",
        "outputId": "c000fd4e-b807-4776-e7c8-6f899bff0a46"
      },
      "source": [
        "# set the matplotlib backend so figures can be saved in the background\n",
        "# plot the training loss and accuracy\n",
        "print(\"Generating plots...\")\n",
        "sys.stdout.flush()\n",
        "matplotlib.use(\"Agg\")\n",
        "matplotlib.pyplot.style.use(\"ggplot\")\n",
        "matplotlib.pyplot.figure()\n",
        "N = EPOCHS\n",
        "matplotlib.pyplot.plot(np.arange(0, N), H.history[\"loss\"], label=\"train_loss\")\n",
        "matplotlib.pyplot.plot(np.arange(0, N), H.history[\"val_loss\"], label=\"val_loss\")\n",
        "matplotlib.pyplot.plot(np.arange(0, N), H.history[\"accuracy\"], label=\"train_accuracy\")\n",
        "matplotlib.pyplot.plot(np.arange(0, N), H.history[\"val_accuracy\"], label=\"val_accuracy\")\n",
        "matplotlib.pyplot.title(\"Training Loss and Accuracy on diabetic retinopathy detection\")\n",
        "matplotlib.pyplot.xlabel(\"Epoch #\")\n",
        "matplotlib.pyplot.ylabel(\"Loss/Accuracy\")\n",
        "matplotlib.pyplot.legend(loc=\"lower left\")\n",
        "matplotlib.pyplot.savefig(\"plot.png\")"
      ],
      "execution_count": null,
      "outputs": [
        {
          "output_type": "stream",
          "text": [
            "Generating plots...\n"
          ],
          "name": "stdout"
        },
        {
          "output_type": "display_data",
          "data": {
            "image/png": "[encoded data removed]",
            "text/plain": [
              "<Figure size 432x288 with 1 Axes>"
            ]
          },
          "metadata": {
            "tags": []
          }
        }
      ]
    },
    {
      "cell_type": "code",
      "metadata": {
        "id": "GdnPg7qBRSDQ"
      },
      "source": [
        "def createModel():\n",
        "    model = Sequential()\n",
        "    # first set of CONV => RELU => MAX POOL layers\n",
        "    model.add(Conv2D(32, (3, 3), padding='same', activation='relu', input_shape=inputShape))\n",
        "    model.add(Conv2D(32, (3, 3), activation='relu'))\n",
        "    model.add(MaxPooling2D(pool_size=(2, 2)))\n",
        "    model.add(Dropout(0.25))\n",
        "    \n",
        "    model.add(Conv2D(64, (3, 3), padding='same', activation='relu'))\n",
        "    model.add(Conv2D(64, (3, 3), activation='relu'))\n",
        "    model.add(MaxPooling2D(pool_size=(2, 2)))\n",
        "    model.add(Dropout(0.25))\n",
        "    \n",
        "    model.add(Conv2D(64, (3, 3), padding='same', activation='relu'))\n",
        "    model.add(Conv2D(64, (3, 3), activation='relu'))\n",
        "    model.add(MaxPooling2D(pool_size=(2, 2)))\n",
        "    model.add(Dropout(0.25))\n",
        "    \n",
        "    model.add(Flatten())\n",
        "    model.add(Dense(512, activation='relu'))\n",
        "    model.add(Dropout(0.25))\n",
        "    model.add(Dense(NUM_CLASSES, activation='softmax'))\n",
        "    # returns our fully constructed deep learning + Keras image classifier \n",
        "    opt = Adam(lr=INIT_LR, decay=INIT_LR / EPOCHS)\n",
        "    # use binary_crossentropy if there are two classes\n",
        "    model.compile(loss=\"categorical_crossentropy\", optimizer=opt, metrics=[\"accuracy\"])\n",
        "    return model"
      ],
      "execution_count": null,
      "outputs": []
    },
    {
      "cell_type": "code",
      "metadata": {
        "colab": {
          "base_uri": "https://localhost:8080/"
        },
        "id": "LaaS_Jso4jln",
        "outputId": "070a4067-a812-465b-b2fa-fe2dfc57f017"
      },
      "source": [
        "print(\"Reshaping trainX at...\"+ str(datetime.now()))\n",
        "#print(trainX.sample()) \n",
        "print(type(trainX)) # <class 'pandas.core.series.Series'>\n",
        "print(trainX.shape) # (750,)\n",
        "from numpy import zeros\n",
        "Xtrain = np.zeros([trainX.shape[0],HEIGHT, WIDTH, DEPTH])\n",
        "for i in range(trainX.shape[0]): # 0 to traindf Size -1\n",
        "    Xtrain[i] = trainX[i]\n",
        "print(Xtrain.shape) # (750,128,128,3)\n",
        "print(\"Reshaped trainX at...\"+ str(datetime.now()))"
      ],
      "execution_count": null,
      "outputs": [
        {
          "output_type": "stream",
          "text": [
            "Reshaping trainX at...2021-03-12 07:12:50.651745\n",
            "<class 'pandas.core.series.Series'>\n",
            "(1124,)\n",
            "(1124, 128, 128, 3)\n",
            "Reshaped trainX at...2021-03-12 07:12:50.929149\n"
          ],
          "name": "stdout"
        }
      ]
    },
    {
      "cell_type": "code",
      "metadata": {
        "colab": {
          "base_uri": "https://localhost:8080/"
        },
        "id": "BGP_objG4k6b",
        "outputId": "89303fb5-fcd1-4584-8656-7fda1156341a"
      },
      "source": [
        "# train the network\n",
        "print(\"training network...\")\n",
        "sys.stdout.flush()\n",
        "#class_mode ='categorical', # 2D one-hot encoded labels\n",
        "H = model.fit_generator(aug.flow(Xtrain, trainY, batch_size=BS), \\\n",
        "    validation_data=(Xval, valY), \\\n",
        "    steps_per_epoch=len(trainX) // BS, \\\n",
        "    epochs=EPOCHS, verbose=1)\n",
        "\n",
        "# save the model to disk\n",
        "print(\"Saving model to disk\")\n",
        "sys.stdout.flush()\n",
        "tf.keras.models.save_model(model, 'my_model3.hdf5')"
      ],
      "execution_count": null,
      "outputs": [
        {
          "output_type": "stream",
          "text": [
            "training network...\n"
          ],
          "name": "stdout"
        },
        {
          "output_type": "stream",
          "text": [
            "/usr/local/lib/python3.7/dist-packages/tensorflow/python/keras/engine/training.py:1844: UserWarning: `Model.fit_generator` is deprecated and will be removed in a future version. Please use `Model.fit`, which supports generators.\n",
            "  warnings.warn('`Model.fit_generator` is deprecated and '\n"
          ],
          "name": "stderr"
        },
        {
          "output_type": "stream",
          "text": [
            "Epoch 1/15\n",
            "35/35 [==============================] - 5s 130ms/step - loss: 0.8128 - accuracy: 0.7647 - val_loss: 0.8169 - val_accuracy: 0.7686\n",
            "Epoch 2/15\n",
            "35/35 [==============================] - 4s 128ms/step - loss: 0.7991 - accuracy: 0.7692 - val_loss: 0.8071 - val_accuracy: 0.7686\n",
            "Epoch 3/15\n",
            "35/35 [==============================] - 5s 128ms/step - loss: 0.8191 - accuracy: 0.7619 - val_loss: 0.8323 - val_accuracy: 0.7686\n",
            "Epoch 4/15\n",
            "35/35 [==============================] - 5s 129ms/step - loss: 0.8018 - accuracy: 0.7656 - val_loss: 0.8054 - val_accuracy: 0.7686\n",
            "Epoch 5/15\n",
            "35/35 [==============================] - 4s 127ms/step - loss: 0.8015 - accuracy: 0.7647 - val_loss: 0.8043 - val_accuracy: 0.7686\n",
            "Epoch 6/15\n",
            "35/35 [==============================] - 4s 124ms/step - loss: 0.8044 - accuracy: 0.7656 - val_loss: 0.8042 - val_accuracy: 0.7686\n",
            "Epoch 7/15\n",
            "35/35 [==============================] - 4s 126ms/step - loss: 0.8008 - accuracy: 0.7637 - val_loss: 0.8134 - val_accuracy: 0.7686\n",
            "Epoch 8/15\n",
            "35/35 [==============================] - 4s 125ms/step - loss: 0.8012 - accuracy: 0.7674 - val_loss: 0.8022 - val_accuracy: 0.7686\n",
            "Epoch 9/15\n",
            "35/35 [==============================] - 4s 124ms/step - loss: 0.7949 - accuracy: 0.7665 - val_loss: 0.8207 - val_accuracy: 0.7686\n",
            "Epoch 10/15\n",
            "35/35 [==============================] - 4s 123ms/step - loss: 0.7947 - accuracy: 0.7683 - val_loss: 0.8082 - val_accuracy: 0.7686\n",
            "Epoch 11/15\n",
            "35/35 [==============================] - 4s 123ms/step - loss: 0.8044 - accuracy: 0.7619 - val_loss: 0.8063 - val_accuracy: 0.7686\n",
            "Epoch 12/15\n",
            "35/35 [==============================] - 4s 123ms/step - loss: 0.7942 - accuracy: 0.7647 - val_loss: 0.8019 - val_accuracy: 0.7686\n",
            "Epoch 13/15\n",
            "35/35 [==============================] - 4s 125ms/step - loss: 0.8020 - accuracy: 0.7656 - val_loss: 0.8156 - val_accuracy: 0.7686\n",
            "Epoch 14/15\n",
            "35/35 [==============================] - 4s 126ms/step - loss: 0.7975 - accuracy: 0.7665 - val_loss: 0.8014 - val_accuracy: 0.7686\n",
            "Epoch 15/15\n",
            "35/35 [==============================] - 4s 127ms/step - loss: 0.7988 - accuracy: 0.7656 - val_loss: 0.8165 - val_accuracy: 0.7686\n",
            "Saving model to disk\n"
          ],
          "name": "stdout"
        }
      ]
    },
    {
      "cell_type": "code",
      "metadata": {
        "colab": {
          "base_uri": "https://localhost:8080/",
          "height": 316
        },
        "id": "_vqOY42P45xi",
        "outputId": "3d133ed2-a33f-482b-8f9e-09af635c2568"
      },
      "source": [
        "# set the matplotlib backend so figures can be saved in the background\n",
        "# plot the training loss and accuracy\n",
        "print(\"Generating plots...\")\n",
        "sys.stdout.flush()\n",
        "matplotlib.use(\"Agg\")\n",
        "matplotlib.pyplot.style.use(\"ggplot\")\n",
        "matplotlib.pyplot.figure()\n",
        "N = EPOCHS\n",
        "matplotlib.pyplot.plot(np.arange(0, N), H.history[\"loss\"], label=\"train_loss\")\n",
        "matplotlib.pyplot.plot(np.arange(0, N), H.history[\"val_loss\"], label=\"val_loss\")\n",
        "matplotlib.pyplot.plot(np.arange(0, N), H.history[\"accuracy\"], label=\"train_accuracy\")\n",
        "matplotlib.pyplot.plot(np.arange(0, N), H.history[\"val_accuracy\"], label=\"val_accuracy\")\n",
        "matplotlib.pyplot.title(\"Training Loss and Accuracy on diabetic retinopathy detection\")\n",
        "matplotlib.pyplot.xlabel(\"Epoch #\")\n",
        "matplotlib.pyplot.ylabel(\"Loss/Accuracy\")\n",
        "matplotlib.pyplot.legend(loc=\"lower left\")\n",
        "matplotlib.pyplot.savefig(\"plot2.png\")"
      ],
      "execution_count": null,
      "outputs": [
        {
          "output_type": "stream",
          "text": [
            "Generating plots...\n"
          ],
          "name": "stdout"
        },
        {
          "output_type": "display_data",
          "data": {
            "image/png": "[encoded data removed]",
            "text/plain": [
              "<Figure size 432x288 with 1 Axes>"
            ]
          },
          "metadata": {
            "tags": []
          }
        }
      ]
    },
    {
      "cell_type": "code",
      "metadata": {
        "id": "BnzsZ78A5tUk",
        "colab": {
          "base_uri": "https://localhost:8080/"
        },
        "outputId": "e52d61da-c534-4a67-e0c7-7b040eb1dac6"
      },
      "source": [
        "!pip install streamlit"
      ],
      "execution_count": null,
      "outputs": [
        {
          "output_type": "stream",
          "text": [
            "Requirement already satisfied: streamlit in /usr/local/lib/python3.7/dist-packages (0.78.0)\n",
            "Requirement already satisfied: tzlocal in /usr/local/lib/python3.7/dist-packages (from streamlit) (1.5.1)\n",
            "Requirement already satisfied: tornado>=5.0 in /usr/local/lib/python3.7/dist-packages (from streamlit) (5.1.1)\n",
            "Requirement already satisfied: blinker in /usr/local/lib/python3.7/dist-packages (from streamlit) (1.4)\n",
            "Requirement already satisfied: pillow>=6.2.0 in /usr/local/lib/python3.7/dist-packages (from streamlit) (7.0.0)\n",
            "Requirement already satisfied: watchdog; platform_system != \"Darwin\" in /usr/local/lib/python3.7/dist-packages (from streamlit) (2.0.2)\n",
            "Requirement already satisfied: validators in /usr/local/lib/python3.7/dist-packages (from streamlit) (0.18.2)\n",
            "Requirement already satisfied: protobuf!=3.11,>=3.6.0 in /usr/local/lib/python3.7/dist-packages (from streamlit) (3.12.4)\n",
            "Requirement already satisfied: toml in /usr/local/lib/python3.7/dist-packages (from streamlit) (0.10.2)\n",
            "Requirement already satisfied: base58 in /usr/local/lib/python3.7/dist-packages (from streamlit) (2.1.0)\n",
            "Requirement already satisfied: pandas>=0.21.0 in /usr/local/lib/python3.7/dist-packages (from streamlit) (1.1.5)\n",
            "Requirement already satisfied: requests in /usr/local/lib/python3.7/dist-packages (from streamlit) (2.23.0)\n",
            "Requirement already satisfied: gitpython in /usr/local/lib/python3.7/dist-packages (from streamlit) (3.1.14)\n",
            "Requirement already satisfied: cachetools>=4.0 in /usr/local/lib/python3.7/dist-packages (from streamlit) (4.2.1)\n",
            "Requirement already satisfied: click>=7.0 in /usr/local/lib/python3.7/dist-packages (from streamlit) (7.1.2)\n",
            "Requirement already satisfied: pyarrow; python_version < \"3.9\" in /usr/local/lib/python3.7/dist-packages (from streamlit) (3.0.0)\n",
            "Requirement already satisfied: pydeck>=0.1.dev5 in /usr/local/lib/python3.7/dist-packages (from streamlit) (0.6.1)\n",
            "Requirement already satisfied: packaging in /usr/local/lib/python3.7/dist-packages (from streamlit) (20.9)\n",
            "Requirement already satisfied: altair>=3.2.0 in /usr/local/lib/python3.7/dist-packages (from streamlit) (4.1.0)\n",
            "Requirement already satisfied: numpy in /usr/local/lib/python3.7/dist-packages (from streamlit) (1.19.5)\n",
            "Requirement already satisfied: python-dateutil in /usr/local/lib/python3.7/dist-packages (from streamlit) (2.8.1)\n",
            "Requirement already satisfied: astor in /usr/local/lib/python3.7/dist-packages (from streamlit) (0.8.1)\n",
            "Requirement already satisfied: pytz in /usr/local/lib/python3.7/dist-packages (from tzlocal->streamlit) (2018.9)\n",
            "Requirement already satisfied: decorator>=3.4.0 in /usr/local/lib/python3.7/dist-packages (from validators->streamlit) (4.4.2)\n",
            "Requirement already satisfied: six>=1.4.0 in /usr/local/lib/python3.7/dist-packages (from validators->streamlit) (1.15.0)\n",
            "Requirement already satisfied: setuptools in /usr/local/lib/python3.7/dist-packages (from protobuf!=3.11,>=3.6.0->streamlit) (54.0.0)\n",
            "Requirement already satisfied: urllib3!=1.25.0,!=1.25.1,<1.26,>=1.21.1 in /usr/local/lib/python3.7/dist-packages (from requests->streamlit) (1.24.3)\n",
            "Requirement already satisfied: certifi>=2017.4.17 in /usr/local/lib/python3.7/dist-packages (from requests->streamlit) (2020.12.5)\n",
            "Requirement already satisfied: chardet<4,>=3.0.2 in /usr/local/lib/python3.7/dist-packages (from requests->streamlit) (3.0.4)\n",
            "Requirement already satisfied: idna<3,>=2.5 in /usr/local/lib/python3.7/dist-packages (from requests->streamlit) (2.10)\n",
            "Requirement already satisfied: gitdb<5,>=4.0.1 in /usr/local/lib/python3.7/dist-packages (from gitpython->streamlit) (4.0.5)\n",
            "Requirement already satisfied: traitlets>=4.3.2 in /usr/local/lib/python3.7/dist-packages (from pydeck>=0.1.dev5->streamlit) (5.0.5)\n",
            "Requirement already satisfied: jinja2>=2.10.1 in /usr/local/lib/python3.7/dist-packages (from pydeck>=0.1.dev5->streamlit) (2.11.3)\n",
            "Requirement already satisfied: ipykernel>=5.1.2; python_version >= \"3.4\" in /usr/local/lib/python3.7/dist-packages (from pydeck>=0.1.dev5->streamlit) (5.5.0)\n",
            "Requirement already satisfied: ipywidgets>=7.0.0 in /usr/local/lib/python3.7/dist-packages (from pydeck>=0.1.dev5->streamlit) (7.6.3)\n",
            "Requirement already satisfied: pyparsing>=2.0.2 in /usr/local/lib/python3.7/dist-packages (from packaging->streamlit) (2.4.7)\n",
            "Requirement already satisfied: toolz in /usr/local/lib/python3.7/dist-packages (from altair>=3.2.0->streamlit) (0.11.1)\n",
            "Requirement already satisfied: jsonschema in /usr/local/lib/python3.7/dist-packages (from altair>=3.2.0->streamlit) (2.6.0)\n",
            "Requirement already satisfied: entrypoints in /usr/local/lib/python3.7/dist-packages (from altair>=3.2.0->streamlit) (0.3)\n",
            "Requirement already satisfied: smmap<4,>=3.0.1 in /usr/local/lib/python3.7/dist-packages (from gitdb<5,>=4.0.1->gitpython->streamlit) (3.0.5)\n",
            "Requirement already satisfied: ipython-genutils in /usr/local/lib/python3.7/dist-packages (from traitlets>=4.3.2->pydeck>=0.1.dev5->streamlit) (0.2.0)\n",
            "Requirement already satisfied: MarkupSafe>=0.23 in /usr/local/lib/python3.7/dist-packages (from jinja2>=2.10.1->pydeck>=0.1.dev5->streamlit) (1.1.1)\n",
            "Requirement already satisfied: jupyter-client in /usr/local/lib/python3.7/dist-packages (from ipykernel>=5.1.2; python_version >= \"3.4\"->pydeck>=0.1.dev5->streamlit) (5.3.5)\n",
            "Requirement already satisfied: ipython>=5.0.0 in /usr/local/lib/python3.7/dist-packages (from ipykernel>=5.1.2; python_version >= \"3.4\"->pydeck>=0.1.dev5->streamlit) (5.5.0)\n",
            "Requirement already satisfied: widgetsnbextension~=3.5.0 in /usr/local/lib/python3.7/dist-packages (from ipywidgets>=7.0.0->pydeck>=0.1.dev5->streamlit) (3.5.1)\n",
            "Requirement already satisfied: jupyterlab-widgets>=1.0.0; python_version >= \"3.6\" in /usr/local/lib/python3.7/dist-packages (from ipywidgets>=7.0.0->pydeck>=0.1.dev5->streamlit) (1.0.0)\n",
            "Requirement already satisfied: nbformat>=4.2.0 in /usr/local/lib/python3.7/dist-packages (from ipywidgets>=7.0.0->pydeck>=0.1.dev5->streamlit) (5.1.2)\n",
            "Requirement already satisfied: jupyter-core>=4.6.0 in /usr/local/lib/python3.7/dist-packages (from jupyter-client->ipykernel>=5.1.2; python_version >= \"3.4\"->pydeck>=0.1.dev5->streamlit) (4.7.1)\n",
            "Requirement already satisfied: pyzmq>=13 in /usr/local/lib/python3.7/dist-packages (from jupyter-client->ipykernel>=5.1.2; python_version >= \"3.4\"->pydeck>=0.1.dev5->streamlit) (22.0.3)\n",
            "Requirement already satisfied: pygments in /usr/local/lib/python3.7/dist-packages (from ipython>=5.0.0->ipykernel>=5.1.2; python_version >= \"3.4\"->pydeck>=0.1.dev5->streamlit) (2.6.1)\n",
            "Requirement already satisfied: pexpect; sys_platform != \"win32\" in /usr/local/lib/python3.7/dist-packages (from ipython>=5.0.0->ipykernel>=5.1.2; python_version >= \"3.4\"->pydeck>=0.1.dev5->streamlit) (4.8.0)\n",
            "Requirement already satisfied: pickleshare in /usr/local/lib/python3.7/dist-packages (from ipython>=5.0.0->ipykernel>=5.1.2; python_version >= \"3.4\"->pydeck>=0.1.dev5->streamlit) (0.7.5)\n",
            "Requirement already satisfied: simplegeneric>0.8 in /usr/local/lib/python3.7/dist-packages (from ipython>=5.0.0->ipykernel>=5.1.2; python_version >= \"3.4\"->pydeck>=0.1.dev5->streamlit) (0.8.1)\n",
            "Requirement already satisfied: prompt-toolkit<2.0.0,>=1.0.4 in /usr/local/lib/python3.7/dist-packages (from ipython>=5.0.0->ipykernel>=5.1.2; python_version >= \"3.4\"->pydeck>=0.1.dev5->streamlit) (1.0.18)\n",
            "Requirement already satisfied: notebook>=4.4.1 in /usr/local/lib/python3.7/dist-packages (from widgetsnbextension~=3.5.0->ipywidgets>=7.0.0->pydeck>=0.1.dev5->streamlit) (5.3.1)\n",
            "Requirement already satisfied: ptyprocess>=0.5 in /usr/local/lib/python3.7/dist-packages (from pexpect; sys_platform != \"win32\"->ipython>=5.0.0->ipykernel>=5.1.2; python_version >= \"3.4\"->pydeck>=0.1.dev5->streamlit) (0.7.0)\n",
            "Requirement already satisfied: wcwidth in /usr/local/lib/python3.7/dist-packages (from prompt-toolkit<2.0.0,>=1.0.4->ipython>=5.0.0->ipykernel>=5.1.2; python_version >= \"3.4\"->pydeck>=0.1.dev5->streamlit) (0.2.5)\n",
            "Requirement already satisfied: terminado>=0.8.1 in /usr/local/lib/python3.7/dist-packages (from notebook>=4.4.1->widgetsnbextension~=3.5.0->ipywidgets>=7.0.0->pydeck>=0.1.dev5->streamlit) (0.9.2)\n",
            "Requirement already satisfied: Send2Trash in /usr/local/lib/python3.7/dist-packages (from notebook>=4.4.1->widgetsnbextension~=3.5.0->ipywidgets>=7.0.0->pydeck>=0.1.dev5->streamlit) (1.5.0)\n",
            "Requirement already satisfied: nbconvert in /usr/local/lib/python3.7/dist-packages (from notebook>=4.4.1->widgetsnbextension~=3.5.0->ipywidgets>=7.0.0->pydeck>=0.1.dev5->streamlit) (5.6.1)\n",
            "Requirement already satisfied: pandocfilters>=1.4.1 in /usr/local/lib/python3.7/dist-packages (from nbconvert->notebook>=4.4.1->widgetsnbextension~=3.5.0->ipywidgets>=7.0.0->pydeck>=0.1.dev5->streamlit) (1.4.3)\n",
            "Requirement already satisfied: testpath in /usr/local/lib/python3.7/dist-packages (from nbconvert->notebook>=4.4.1->widgetsnbextension~=3.5.0->ipywidgets>=7.0.0->pydeck>=0.1.dev5->streamlit) (0.4.4)\n",
            "Requirement already satisfied: bleach in /usr/local/lib/python3.7/dist-packages (from nbconvert->notebook>=4.4.1->widgetsnbextension~=3.5.0->ipywidgets>=7.0.0->pydeck>=0.1.dev5->streamlit) (3.3.0)\n",
            "Requirement already satisfied: defusedxml in /usr/local/lib/python3.7/dist-packages (from nbconvert->notebook>=4.4.1->widgetsnbextension~=3.5.0->ipywidgets>=7.0.0->pydeck>=0.1.dev5->streamlit) (0.7.0)\n",
            "Requirement already satisfied: mistune<2,>=0.8.1 in /usr/local/lib/python3.7/dist-packages (from nbconvert->notebook>=4.4.1->widgetsnbextension~=3.5.0->ipywidgets>=7.0.0->pydeck>=0.1.dev5->streamlit) (0.8.4)\n",
            "Requirement already satisfied: webencodings in /usr/local/lib/python3.7/dist-packages (from bleach->nbconvert->notebook>=4.4.1->widgetsnbextension~=3.5.0->ipywidgets>=7.0.0->pydeck>=0.1.dev5->streamlit) (0.5.1)\n"
          ],
          "name": "stdout"
        }
      ]
    },
    {
      "cell_type": "code",
      "metadata": {
        "colab": {
          "base_uri": "https://localhost:8080/"
        },
        "id": "Ky34Yjb6nV8B",
        "outputId": "092c9399-6511-4306-caf1-6c97cd050d46"
      },
      "source": [
        "import streamlit as st\n",
        "import tensorflow as tf\n",
        "\n",
        "st.set_option('deprecation.showfileUploaderEncoding', False)\n",
        "def cache(*args, **kwargs):\n",
        "    def decorator(func):\n",
        "        try:\n",
        "            __IPYTHON__  # type: ignore\n",
        "            # We are in a Jupyter environment, so don't apply st.cache\n",
        "            return func\n",
        "        except NameError:\n",
        "            return st.cache(func, *args, **kwargs)\n",
        "\n",
        "    return decorator\n",
        "@cache()\n",
        "def long_running_function():\n",
        "    return 1\n",
        "\n",
        "def load_model():\n",
        "  model = tf.keras.models.load_model('/content/my_model2.hdf5')\n",
        "  return model\n",
        "model=load_model()\n",
        "st.write(\"\"\"\n",
        "        # Diabetic Retinopathy Detection\n",
        "        \"\"\"\n",
        "        )\n",
        "#file = st.file_uploader(\"Please upload an retinal image\", type = [\"jpeg\",\"jpg\",\"png\"])\n",
        "file = \"/content/drive/MyDrive/Copy_203_right.jpeg\"\n",
        "import cv2\n",
        "from PIL import Image, ImageOps\n",
        "import numpy as np\n",
        "def import_and_predict(image_data, model):\n",
        "\n",
        "  size = (128,128)\n",
        "  image = ImageOps.fit(image_data, size, Image.ANTIALIAS)\n",
        "  img = np.asarray(image)\n",
        "  img_reshape = img[np.newaxis,...]\n",
        "  prediction = model.predict(img_reshape)\n",
        "\n",
        "  return prediction\n",
        "\n",
        "if file is None:\n",
        "  st.text(\"Please upload an image file\")\n",
        "else:\n",
        "  image = Image.open(file)\n",
        "  st.image(image, use_column_width=True)\n",
        "  predictions = import_and_predict(image, model)\n",
        "  class_names = ['No DR','Mild','Moderate','Severe','Proliferative DR']\n",
        "  string = \"This image is most likely is: \"+class_names[np.argmax(predictions)]\n",
        "  print(np.argmax(predictions))\n",
        "  print(class_names[np.argmax(predictions)])"
      ],
      "execution_count": null,
      "outputs": [
        {
          "output_type": "stream",
          "text": [
            "2021-03-12 07:15:34.491 WARNING root: \n",
            "  \u001b[33m\u001b[1mWarning:\u001b[0m to view this Streamlit app on a browser, run it with the following\n",
            "  command:\n",
            "\n",
            "    streamlit run /usr/local/lib/python3.7/dist-packages/ipykernel_launcher.py [ARGUMENTS]\n"
          ],
          "name": "stderr"
        },
        {
          "output_type": "stream",
          "text": [
            "0\n",
            "No DR\n"
          ],
          "name": "stdout"
        }
      ]
    },
    {
      "cell_type": "code",
      "metadata": {
        "id": "Sp1sRwnSaXfD"
      },
      "source": [
        ""
      ],
      "execution_count": null,
      "outputs": []
    }
  ]
}